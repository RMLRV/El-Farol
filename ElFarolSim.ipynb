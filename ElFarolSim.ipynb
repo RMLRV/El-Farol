{
 "cells": [
  {
   "cell_type": "markdown",
   "id": "4c7637ec",
   "metadata": {},
   "source": [
    "# El Farol Bar Problem"
   ]
  },
  {
   "cell_type": "markdown",
   "id": "fd59f94d",
   "metadata": {},
   "source": [
    "El Farol is a bar in Santa Fe which offers Irish music on Thursday nights. In his 1994 paper, W. Brian Arthur formulated the Bar Problem as: \n",
    "\n",
    "\"N people decide independently each week whether to go to a bar that offers entertainment on a certain night. For concreteness, let us set N to 100. Space is limited, and the evening is enjoyable if things are not too crowded - specifically, if fewer than 60 percent of the possible 100 are present. There is no sure way to tell the numbers coming in advance; therefore a person or agent goes (deems it worth going) if he expects fewer than 60 to show up or stays home if he expects more than 60 to go. Choices are unaffected by previous visits; there is no collusion or prior communication among the agents; and the only information available is the numbers who came in past weeks.\"[1]\n",
    "\n",
    "In this notebook, I will try to model the El Farol Bar Problem and predict the number of people who will go to the bar on a Thursday."
   ]
  },
  {
   "cell_type": "code",
   "execution_count": 1,
   "id": "bb37dd7a",
   "metadata": {},
   "outputs": [],
   "source": [
    "import numpy as np\n",
    "import matplotlib.pyplot as plt"
   ]
  },
  {
   "cell_type": "code",
   "execution_count": 2,
   "id": "c9016250",
   "metadata": {},
   "outputs": [],
   "source": [
    "# number of agents\n",
    "N = 100          \n",
    "# Generaate previous attendance in one year \n",
    "attendance = np.round((np.random.normal(0.6, 0.1, 52))*100)\n",
    "# Number of weeks to be simulated\n",
    "week = 100"
   ]
  },
  {
   "cell_type": "markdown",
   "id": "21d61a29",
   "metadata": {},
   "source": [
    "### Define strategies\n",
    "Different agent strategies should be formulated. If all agents have the same strategy, no one will go to the bar if the predictor tells them that more than 60 will go and everyone will go if the predictor says otherwise.  "
   ]
  },
  {
   "cell_type": "code",
   "execution_count": 3,
   "id": "cac256c1",
   "metadata": {},
   "outputs": [],
   "source": [
    "def last_week(attendance):\n",
    "    attend = attendance[-1]\n",
    "    return attend"
   ]
  },
  {
   "cell_type": "code",
   "execution_count": 4,
   "id": "8778b739",
   "metadata": {},
   "outputs": [],
   "source": [
    "def year_ave(attendance):\n",
    "    yearmean = np.mean(attendance[-52:])\n",
    "    attend = np.round(yearmean)\n",
    "    return attend    "
   ]
  },
  {
   "cell_type": "code",
   "execution_count": 5,
   "id": "05c47c11",
   "metadata": {},
   "outputs": [],
   "source": [
    "def month_ave(attendance):\n",
    "    monthmean = np.mean(attendance[-4:])\n",
    "    attend = np.round(monthmean)\n",
    "    return attend    "
   ]
  },
  {
   "cell_type": "code",
   "execution_count": 6,
   "id": "a763a1e2",
   "metadata": {},
   "outputs": [],
   "source": [
    "def last_month(attendance):\n",
    "    attend = attendance[-4]\n",
    "    return attend"
   ]
  },
  {
   "cell_type": "markdown",
   "id": "60f0a6ae",
   "metadata": {},
   "source": [
    "### El Farol Main"
   ]
  },
  {
   "cell_type": "code",
   "execution_count": 7,
   "id": "a6e39f88",
   "metadata": {},
   "outputs": [],
   "source": [
    "nweeks = np.arange(week)\n",
    "nagent = np.arange(N)\n",
    "\n",
    "for i in nweeks:\n",
    "    agent_strat = np.round(np.random.uniform(0,3,N))\n",
    "    go = np.zeros(N)\n",
    "    for j in nagent:\n",
    "                \n",
    "        if (agent_strat[j]==0):\n",
    "            attend = last_week(attendance)\n",
    "        elif (agent_strat[j]==1):\n",
    "            attend = year_ave(attendance)\n",
    "        elif (agent_strat[j]==2):\n",
    "            attend = month_ave(attendance)\n",
    "        else:\n",
    "            attend = last_month(attendance)\n",
    "        \n",
    "        if (attend >= 60):\n",
    "            P = np.random.uniform(0.3,0.7)\n",
    "        else:\n",
    "            P = np.random.uniform(0.4,0.8)\n",
    "        if (P>0.5):\n",
    "            go[j] = 1\n",
    "        else:\n",
    "            go[j] = 0\n",
    "            \n",
    "    week_attendance = np.sum(go)\n",
    "    attendance = np.append(attendance, week_attendance)\n",
    "    #print(week_attendance)        "
   ]
  },
  {
   "cell_type": "code",
   "execution_count": 8,
   "id": "644cc826",
   "metadata": {},
   "outputs": [
    {
     "data": {
      "image/png": "[encoded data removed]",
      "text/plain": [
       "<Figure size 432x288 with 1 Axes>"
      ]
     },
     "metadata": {
      "needs_background": "light"
     },
     "output_type": "display_data"
    }
   ],
   "source": [
    "x = np.arange(1,week+1)\n",
    "y = np.ones(week)*60\n",
    "plt.figure()\n",
    "plt.plot(nweeks, attendance[-week:], color='blue')\n",
    "plt.plot(x, y, color='red')\n",
    "plt.xlabel('time')\n",
    "plt.ylabel('attendance')\n",
    "plt.ylim([0, 100])\n",
    "plt.show()"
   ]
  },
  {
   "cell_type": "markdown",
   "id": "81e50e36",
   "metadata": {},
   "source": [
    "Note that the mean attendance converges to 60.  "
   ]
  },
  {
   "cell_type": "markdown",
   "id": "5c5fcce9",
   "metadata": {},
   "source": [
    "### Reference\n",
    "[1] Arthur, W. B. (1994). Inductive reasoning and bounded rationality. The American economic review, 84(2), 406-411."
   ]
  }
 ],
 "metadata": {
  "kernelspec": {
   "display_name": "Python 3 (ipykernel)",
   "language": "python",
   "name": "python3"
  },
  "language_info": {
   "codemirror_mode": {
    "name": "ipython",
    "version": 3
   },
   "file_extension": ".py",
   "mimetype": "text/x-python",
   "name": "python",
   "nbconvert_exporter": "python",
   "pygments_lexer": "ipython3",
   "version": "3.8.8"
  }
 },
 "nbformat": 4,
 "nbformat_minor": 5
}
